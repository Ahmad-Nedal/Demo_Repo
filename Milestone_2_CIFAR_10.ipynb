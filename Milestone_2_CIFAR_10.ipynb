{
  "nbformat": 4,
  "nbformat_minor": 0,
  "metadata": {
    "kernelspec": {
      "display_name": "Python 3",
      "language": "python",
      "name": "python3"
    },
    "language_info": {
      "codemirror_mode": {
        "name": "ipython",
        "version": 3
      },
      "file_extension": ".py",
      "mimetype": "text/x-python",
      "name": "python",
      "nbconvert_exporter": "python",
      "pygments_lexer": "ipython3",
      "version": "3.5.2"
    },
    "colab": {
      "name": "Milestone 2 CIFAR-10.ipynb",
      "provenance": []
    },
    "accelerator": "GPU"
  },
  "cells": [
    {
      "cell_type": "markdown",
      "metadata": {
        "deletable": true,
        "editable": true,
        "id": "trV-HuosSSV6"
      },
      "source": [
        "# Deep Learning CIFAR-10 (with dropout, batch normalization and data augmentation)"
      ]
    },
    {
      "cell_type": "markdown",
      "metadata": {
        "deletable": true,
        "editable": true,
        "id": "-3K7z2PvSSV_"
      },
      "source": [
        "## 1. Loading the dataset"
      ]
    },
    {
      "cell_type": "code",
      "metadata": {
        "deletable": true,
        "editable": true,
        "id": "Yf8FgI0FSSWA"
      },
      "source": [
        "import numpy as np\n",
        "\n",
        "from keras.datasets import cifar10\n",
        "from keras.utils.np_utils import to_categorical   \n",
        "\n",
        "\n",
        "(X_train, y_train), (X_test, y_test) = cifar10.load_data()"
      ],
      "execution_count": 1,
      "outputs": []
    },
    {
      "cell_type": "markdown",
      "metadata": {
        "deletable": true,
        "editable": true,
        "id": "ommVczCYSSWC"
      },
      "source": [
        "#### Examining the dataset"
      ]
    },
    {
      "cell_type": "code",
      "metadata": {
        "deletable": true,
        "editable": true,
        "colab": {
          "base_uri": "https://localhost:8080/"
        },
        "id": "Tp_q5hKSSSWC",
        "outputId": "459d8c95-52ed-4891-d00f-985a69b8fc39"
      },
      "source": [
        "print(\"Shape of training data:\")\n",
        "print(X_train.shape)\n",
        "print(y_train.shape)\n",
        "print(\"Shape of test data:\")\n",
        "print(X_test.shape)\n",
        "print(y_test.shape)"
      ],
      "execution_count": 2,
      "outputs": [
        {
          "output_type": "stream",
          "name": "stdout",
          "text": [
            "Shape of training data:\n",
            "(50000, 32, 32, 3)\n",
            "(50000, 1)\n",
            "Shape of test data:\n",
            "(10000, 32, 32, 3)\n",
            "(10000, 1)\n"
          ]
        }
      ]
    },
    {
      "cell_type": "markdown",
      "metadata": {
        "deletable": true,
        "editable": true,
        "id": "4MvMbt1zSSWD"
      },
      "source": [
        "We have 50000 training and 10000 test images in the dataset. The images have a structure of (32,32,3) which correspond to (width, height, RGB).\n",
        "\n",
        "For each image there is a corresponding label, which is a class index."
      ]
    },
    {
      "cell_type": "code",
      "metadata": {
        "deletable": true,
        "editable": true,
        "colab": {
          "base_uri": "https://localhost:8080/",
          "height": 238
        },
        "id": "wB4K2wQXSSWD",
        "outputId": "22911058-7ec2-4ad7-cc5c-f6ba5f296a3c"
      },
      "source": [
        "import matplotlib.pyplot as plt\n",
        "\n",
        "cifar_classes = ['airplane', 'automobile', 'bird', 'cat', 'deer', 'dog', 'frog', 'horse', 'ship', 'truck']\n",
        "print('Example training images and their labels: ' + str([x[0] for x in y_train[0:5]])) \n",
        "print('Corresponding classes for the labels: ' + str([cifar_classes[x[0]] for x in y_train[0:5]]))\n",
        "\n",
        "f, axarr = plt.subplots(1, 5)\n",
        "f.set_size_inches(16, 6)\n",
        "\n",
        "for i in range(5):\n",
        "    img = X_train[i]\n",
        "    axarr[i].imshow(img)\n",
        "plt.show()"
      ],
      "execution_count": 3,
      "outputs": [
        {
          "output_type": "stream",
          "name": "stdout",
          "text": [
            "Example training images and their labels: [6, 9, 9, 4, 1]\n",
            "Corresponding classes for the labels: ['frog', 'truck', 'truck', 'deer', 'automobile']\n"
          ]
        },
        {
          "output_type": "display_data",
          "data": {
            "image/png": "[encoded data removed]",
            "text/plain": [
              "<Figure size 1152x432 with 5 Axes>"
            ]
          },
          "metadata": {
            "needs_background": "light"
          }
        }
      ]
    },
    {
      "cell_type": "markdown",
      "metadata": {
        "deletable": true,
        "editable": true,
        "id": "qXCU7ZsrSSWK"
      },
      "source": [
        "## 2. CNN classifier"
      ]
    },
    {
      "cell_type": "markdown",
      "metadata": {
        "deletable": true,
        "editable": true,
        "id": "cFNIeZvkSSWK"
      },
      "source": [
        "#### Preparing the dataset"
      ]
    },
    {
      "cell_type": "code",
      "metadata": {
        "collapsed": true,
        "deletable": true,
        "editable": true,
        "id": "lI-z3T3cSSWL"
      },
      "source": [
        "(X_train, y_train), (X_test, y_test) = cifar10.load_data()\n",
        "y_train = to_categorical(y_train, num_classes=10)\n",
        "y_test = to_categorical(y_test, num_classes=10)\n",
        "X_train = X_train.astype('float32')\n",
        "X_test = X_test.astype('float32')\n",
        "X_train /= 255\n",
        "X_test /= 255"
      ],
      "execution_count": 5,
      "outputs": []
    },
    {
      "cell_type": "code",
      "metadata": {
        "deletable": true,
        "editable": true,
        "colab": {
          "base_uri": "https://localhost:8080/"
        },
        "id": "F9bdQ0tHSSWL",
        "outputId": "7eb2badb-e98b-472c-ce6b-4f6b71c0ad5d"
      },
      "source": [
        "print(\"Shape of training data:\")\n",
        "print(X_train.shape)\n",
        "print(y_train.shape)\n",
        "print(\"Shape of test data:\")\n",
        "print(X_test.shape)\n",
        "print(y_test.shape)"
      ],
      "execution_count": 6,
      "outputs": [
        {
          "output_type": "stream",
          "name": "stdout",
          "text": [
            "Shape of training data:\n",
            "(50000, 32, 32, 3)\n",
            "(50000, 10)\n",
            "Shape of test data:\n",
            "(10000, 32, 32, 3)\n",
            "(10000, 10)\n"
          ]
        }
      ]
    },
    {
      "cell_type": "markdown",
      "metadata": {
        "deletable": true,
        "editable": true,
        "id": "N7HJfvLESSWL"
      },
      "source": [
        "#### Creating CNN model"
      ]
    },
    {
      "cell_type": "code",
      "metadata": {
        "collapsed": true,
        "deletable": true,
        "editable": true,
        "id": "S8ZFN66sSSWQ"
      },
      "source": [
        "from keras.preprocessing.image import ImageDataGenerator\n",
        "\n",
        "train_datagen = ImageDataGenerator(\n",
        "        width_shift_range=0.1,  # randomly shift images horizontally (fraction of total width)\n",
        "        height_shift_range=0.1,  # randomly shift images vertically (fraction of total height)\n",
        "        horizontal_flip=True)   # flip images horizontally\n",
        "\n",
        "validation_datagen = ImageDataGenerator()\n",
        "\n",
        "train_generator = train_datagen.flow(X_train[:40000], y_train[:40000], batch_size=32)\n",
        "validation_generator = validation_datagen.flow(X_train[40000:], y_train[40000:], batch_size=32)"
      ],
      "execution_count": 7,
      "outputs": []
    },
    {
      "cell_type": "code",
      "metadata": {
        "collapsed": true,
        "deletable": true,
        "editable": true,
        "id": "xDj45e8rSSWQ"
      },
      "source": [
        "from tensorflow.keras.optimizers import Adam\n",
        "from tensorflow.keras.models import Sequential\n",
        "from tensorflow.keras.layers import Dense, Dropout, BatchNormalization, Activation\n",
        "from keras.layers import Dense, Flatten\n",
        "from keras.layers import Conv2D, MaxPooling2D\n",
        "\n",
        "model = Sequential()\n",
        "\n",
        "model.add(Conv2D(32, (3, 3), activation='relu', input_shape=(32, 32, 3)))\n",
        "model.add(Conv2D(32, (3, 3)))\n",
        "# Batch normalization layer added here\n",
        "model.add(BatchNormalization())\n",
        "model.add(Activation('relu'))\n",
        "model.add(MaxPooling2D(pool_size=(2, 2)))\n",
        "model.add(Dropout(0.25))\n",
        "\n",
        "model.add(Flatten())\n",
        "model.add(Dense(256))\n",
        "# Batch normalization layer added here\n",
        "model.add(BatchNormalization())\n",
        "model.add(Activation('relu'))\n",
        "model.add(Dropout(0.5))\n",
        "model.add(Dense(10, activation='softmax'))\n",
        "\n",
        "adam = Adam(learning_rate=0.0006, beta_1=0.9, beta_2=0.999, decay=0.0)\n",
        "\n",
        "model.compile(loss='categorical_crossentropy', metrics=['accuracy'], optimizer=adam)"
      ],
      "execution_count": 8,
      "outputs": []
    },
    {
      "cell_type": "code",
      "metadata": {
        "colab": {
          "base_uri": "https://localhost:8080/"
        },
        "id": "DV369Jupwwym",
        "outputId": "80ebd275-2efe-4d3f-ed75-fae9b0bf3c1a"
      },
      "source": [
        "model.summary()"
      ],
      "execution_count": 9,
      "outputs": [
        {
          "output_type": "stream",
          "name": "stdout",
          "text": [
            "Model: \"sequential\"\n",
            "_________________________________________________________________\n",
            " Layer (type)                Output Shape              Param #   \n",
            "=================================================================\n",
            " conv2d (Conv2D)             (None, 30, 30, 32)        896       \n",
            "                                                                 \n",
            " conv2d_1 (Conv2D)           (None, 28, 28, 32)        9248      \n",
            "                                                                 \n",
            " batch_normalization (BatchN  (None, 28, 28, 32)       128       \n",
            " ormalization)                                                   \n",
            "                                                                 \n",
            " activation (Activation)     (None, 28, 28, 32)        0         \n",
            "                                                                 \n",
            " max_pooling2d (MaxPooling2D  (None, 14, 14, 32)       0         \n",
            " )                                                               \n",
            "                                                                 \n",
            " dropout (Dropout)           (None, 14, 14, 32)        0         \n",
            "                                                                 \n",
            " flatten (Flatten)           (None, 6272)              0         \n",
            "                                                                 \n",
            " dense (Dense)               (None, 256)               1605888   \n",
            "                                                                 \n",
            " batch_normalization_1 (Batc  (None, 256)              1024      \n",
            " hNormalization)                                                 \n",
            "                                                                 \n",
            " activation_1 (Activation)   (None, 256)               0         \n",
            "                                                                 \n",
            " dropout_1 (Dropout)         (None, 256)               0         \n",
            "                                                                 \n",
            " dense_1 (Dense)             (None, 10)                2570      \n",
            "                                                                 \n",
            "=================================================================\n",
            "Total params: 1,619,754\n",
            "Trainable params: 1,619,178\n",
            "Non-trainable params: 576\n",
            "_________________________________________________________________\n"
          ]
        }
      ]
    },
    {
      "cell_type": "code",
      "metadata": {
        "deletable": true,
        "editable": true,
        "colab": {
          "base_uri": "https://localhost:8080/"
        },
        "id": "rJ1mvllNSSWQ",
        "outputId": "fdae9a5f-8428-4e83-bc07-8beccb4e1a23"
      },
      "source": [
        "# fits the model on batches with real-time data augmentation:\n",
        "history = model.fit(train_generator,    \n",
        "                    validation_data=validation_generator,\n",
        "                    validation_steps=len(X_train[40000:]) / 32,\n",
        "                    steps_per_epoch=len(X_train[:40000]) / 32,\n",
        "                    epochs=15,\n",
        "                    verbose=2)"
      ],
      "execution_count": 10,
      "outputs": [
        {
          "output_type": "stream",
          "name": "stdout",
          "text": [
            "Epoch 1/15\n",
            "1250/1250 - 31s - loss: 1.6274 - accuracy: 0.4265 - val_loss: 1.2713 - val_accuracy: 0.5517 - 31s/epoch - 24ms/step\n",
            "Epoch 2/15\n",
            "1250/1250 - 28s - loss: 1.2830 - accuracy: 0.5408 - val_loss: 1.1109 - val_accuracy: 0.6044 - 28s/epoch - 23ms/step\n",
            "Epoch 3/15\n",
            "1250/1250 - 28s - loss: 1.1912 - accuracy: 0.5767 - val_loss: 1.1599 - val_accuracy: 0.5883 - 28s/epoch - 22ms/step\n",
            "Epoch 4/15\n",
            "1250/1250 - 28s - loss: 1.1418 - accuracy: 0.5958 - val_loss: 1.0064 - val_accuracy: 0.6464 - 28s/epoch - 23ms/step\n",
            "Epoch 5/15\n",
            "1250/1250 - 28s - loss: 1.1002 - accuracy: 0.6121 - val_loss: 0.9450 - val_accuracy: 0.6727 - 28s/epoch - 22ms/step\n",
            "Epoch 6/15\n",
            "1250/1250 - 28s - loss: 1.0706 - accuracy: 0.6239 - val_loss: 1.0560 - val_accuracy: 0.6274 - 28s/epoch - 22ms/step\n",
            "Epoch 7/15\n",
            "1250/1250 - 28s - loss: 1.0475 - accuracy: 0.6339 - val_loss: 0.9741 - val_accuracy: 0.6576 - 28s/epoch - 23ms/step\n",
            "Epoch 8/15\n",
            "1250/1250 - 29s - loss: 1.0166 - accuracy: 0.6411 - val_loss: 0.9854 - val_accuracy: 0.6590 - 29s/epoch - 23ms/step\n",
            "Epoch 9/15\n",
            "1250/1250 - 28s - loss: 1.0129 - accuracy: 0.6454 - val_loss: 0.9772 - val_accuracy: 0.6599 - 28s/epoch - 23ms/step\n",
            "Epoch 10/15\n",
            "1250/1250 - 28s - loss: 0.9883 - accuracy: 0.6540 - val_loss: 0.8692 - val_accuracy: 0.6935 - 28s/epoch - 23ms/step\n",
            "Epoch 11/15\n",
            "1250/1250 - 28s - loss: 0.9772 - accuracy: 0.6563 - val_loss: 1.1906 - val_accuracy: 0.5876 - 28s/epoch - 23ms/step\n",
            "Epoch 12/15\n",
            "1250/1250 - 28s - loss: 0.9663 - accuracy: 0.6614 - val_loss: 0.9254 - val_accuracy: 0.6894 - 28s/epoch - 23ms/step\n",
            "Epoch 13/15\n",
            "1250/1250 - 28s - loss: 0.9486 - accuracy: 0.6679 - val_loss: 0.7986 - val_accuracy: 0.7151 - 28s/epoch - 22ms/step\n",
            "Epoch 14/15\n",
            "1250/1250 - 28s - loss: 0.9492 - accuracy: 0.6680 - val_loss: 0.8600 - val_accuracy: 0.7014 - 28s/epoch - 22ms/step\n",
            "Epoch 15/15\n",
            "1250/1250 - 28s - loss: 0.9408 - accuracy: 0.6723 - val_loss: 0.8011 - val_accuracy: 0.7253 - 28s/epoch - 23ms/step\n"
          ]
        }
      ]
    },
    {
      "cell_type": "code",
      "metadata": {
        "id": "LnqGZfftHplR"
      },
      "source": [
        "# Define plotLosses(history) function:"
      ],
      "execution_count": null,
      "outputs": []
    },
    {
      "cell_type": "code",
      "metadata": {
        "collapsed": true,
        "deletable": true,
        "editable": true,
        "id": "es6kqAxFSSWI"
      },
      "source": [
        "def plotLosses(history):  \n",
        "    plt.plot(history.history['loss'])\n",
        "    plt.plot(history.history['val_loss'])\n",
        "    plt.title('model loss')\n",
        "    plt.ylabel('loss')\n",
        "    plt.xlabel('epoch')\n",
        "    plt.legend(['train', 'validation'], loc='upper left')\n",
        "    plt.show()"
      ],
      "execution_count": null,
      "outputs": []
    },
    {
      "cell_type": "code",
      "metadata": {
        "deletable": true,
        "editable": true,
        "colab": {
          "base_uri": "https://localhost:8080/",
          "height": 295
        },
        "id": "y4DgajBbSSWR",
        "outputId": "e72a3160-f459-4cf2-ae0c-e2bee621e68f"
      },
      "source": [
        "plotLosses(history)"
      ],
      "execution_count": 11,
      "outputs": [
        {
          "output_type": "display_data",
          "data": {
            "image/png": "[encoded data removed]",
            "text/plain": [
              "<Figure size 432x288 with 1 Axes>"
            ]
          },
          "metadata": {
            "needs_background": "light"
          }
        }
      ]
    },
    {
      "cell_type": "markdown",
      "metadata": {
        "deletable": true,
        "editable": true,
        "id": "evVEL4TUSSWR"
      },
      "source": [
        "#### Evaluating the CNN (with dropout, batch normalization and data augmentation)"
      ]
    },
    {
      "cell_type": "code",
      "metadata": {
        "collapsed": true,
        "deletable": true,
        "editable": true,
        "id": "LFC6KA7_SSWR"
      },
      "source": [
        "score = model.evaluate(X_test, y_test, batch_size=128, verbose=0)"
      ],
      "execution_count": 12,
      "outputs": []
    },
    {
      "cell_type": "code",
      "metadata": {
        "deletable": true,
        "editable": true,
        "colab": {
          "base_uri": "https://localhost:8080/"
        },
        "id": "ZBmNGBt7SSWR",
        "outputId": "4bcc3543-2ea2-4ce5-8998-ec8b1a6557bc"
      },
      "source": [
        "print(model.metrics_names)\n",
        "print(score)"
      ],
      "execution_count": 13,
      "outputs": [
        {
          "output_type": "stream",
          "name": "stdout",
          "text": [
            "['loss', 'accuracy']\n",
            "[0.8062433004379272, 0.7240999937057495]\n"
          ]
        }
      ]
    }
  ]
}